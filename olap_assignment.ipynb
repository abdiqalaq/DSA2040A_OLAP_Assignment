{
 "cells": [
  {
   "cell_type": "markdown",
   "id": "c6d0b3d4",
   "metadata": {},
   "source": [
    "# DSA2040A OLAP Assignment  \n",
    "**Student:** Abdiqalaq Issack -243  \n",
    "**Institution:** USIU-Africa  \n",
    "\n",
    "This notebook demonstrates the implementation of a **mini OLAP system** using SQLite + Pandas in Jupyter Notebook.  \n",
    "The goal is to show understanding of **ROLAP, MOLAP, and HOLAP architectures** as well as OLAP operations:  \n",
    "**Slice, Dice, Roll-Up, and Drill-Down.**\n",
    "\n",
    "---\n"
   ]
  },
  {
   "cell_type": "code",
   "execution_count": 27,
   "id": "a5e52dbb",
   "metadata": {},
   "outputs": [],
   "source": [
    "# 1. Setup\n",
    "import pandas as pd\n",
    "import numpy as np\n",
    "import sqlite3\n",
    "import seaborn as sns\n",
    "import matplotlib.pyplot as plt\n",
    "\n",
    "# Database connection\n",
    "def create_connection(db_file=\"sales_demo.db\"):\n",
    "    return sqlite3.connect(db_file)\n",
    "\n",
    "conn = create_connection()\n"
   ]
  },
  {
   "cell_type": "markdown",
   "id": "74d779f2",
   "metadata": {},
   "source": [
    "## 2. Data Warehouse Design (Star Schema)\n",
    "\n",
    "We will create one **Fact Table** and two **Dimension Tables**.\n",
    "\n",
    "**Fact Table: sales**\n",
    "- sale_id (int, PK)\n",
    "- date (str, FK)\n",
    "- product_id (int, FK)\n",
    "- quantity (int)\n",
    "- revenue (float)\n",
    "\n",
    "**Dimension Tables:**\n",
    "- products (product_id, category, name, price)  \n",
    "- dates (date, year, quarter, month)  \n",
    "\n",
    "---\n"
   ]
  },
  {
   "cell_type": "code",
   "execution_count": 28,
   "id": "32204fe6",
   "metadata": {},
   "outputs": [
    {
     "name": "stdout",
     "output_type": "stream",
     "text": [
      "Tables created: products, dates, sales\n"
     ]
    }
   ],
   "source": [
    "# Create sample data\n",
    "products = pd.DataFrame({\n",
    "    'product_id': [1,2,3,4],\n",
    "    'category': ['Electronics','Electronics','Clothing','Clothing'],\n",
    "    'name': ['Laptop','Phone','Shirt','Shoes'],\n",
    "    'price': [1000,500,50,80]\n",
    "})\n",
    "\n",
    "dates = pd.DataFrame({\n",
    "    'date': ['2024-01-10','2024-02-15','2024-03-05','2024-04-20','2024-06-10'],\n",
    "    'year': [2024,2024,2024,2024,2024],\n",
    "    'quarter': ['Q1','Q1','Q1','Q2','Q2'],\n",
    "    'month': ['Jan','Feb','Mar','Apr','Jun']\n",
    "})\n",
    "\n",
    "sales = pd.DataFrame({\n",
    "    'sale_id': [1,2,3,4,5],\n",
    "    'date': ['2024-01-10','2024-02-15','2024-03-05','2024-04-20','2024-06-10'],\n",
    "    'product_id': [1,2,3,4,2],\n",
    "    'quantity': [2,5,10,3,4],\n",
    "    'revenue': [2000,2500,500,240,2000]\n",
    "})\n",
    "\n",
    "# Load into SQLite\n",
    "products.to_sql('products', conn, if_exists='replace', index=False)\n",
    "dates.to_sql('dates', conn, if_exists='replace', index=False)\n",
    "sales.to_sql('sales', conn, if_exists='replace', index=False)\n",
    "\n",
    "print(\"Tables created: products, dates, sales\")\n"
   ]
  },
  {
   "cell_type": "markdown",
   "id": "262f0cc9",
   "metadata": {},
   "source": [
    "## 3. OLAP Implementations\n",
    "### (a) ROLAP (Relational OLAP using SQL)\n",
    "We will run SQL queries directly on SQLite to get OLAP-style aggregations:\n",
    "1. Average revenue by product category  \n",
    "2. Total sales by year  \n",
    "3. Best-selling product in each category  \n"
   ]
  },
  {
   "cell_type": "code",
   "execution_count": 29,
   "id": "90842578",
   "metadata": {},
   "outputs": [
    {
     "name": "stdout",
     "output_type": "stream",
     "text": [
      "ROLAP: Average Revenue by Category\n",
      "      category  avg_revenue\n",
      "0     Clothing   370.000000\n",
      "1  Electronics  2166.666667\n",
      "\n",
      "ROLAP: Total Revenue by Year\n",
      "   year  total_revenue\n",
      "0  2024           7240\n",
      "\n",
      "ROLAP: Best-Selling Products\n",
      "      category    name  total_sold\n",
      "0     Clothing   Shirt          10\n",
      "1  Electronics   Phone           9\n",
      "2     Clothing   Shoes           3\n",
      "3  Electronics  Laptop           2\n"
     ]
    }
   ],
   "source": [
    "# Query 1: Average revenue by category\n",
    "q1 = \"\"\"\n",
    "SELECT p.category, AVG(s.revenue) as avg_revenue\n",
    "FROM sales s\n",
    "JOIN products p ON s.product_id = p.product_id\n",
    "GROUP BY p.category;\n",
    "\"\"\"\n",
    "rolap1 = pd.read_sql_query(q1, conn)\n",
    "print(\"ROLAP: Average Revenue by Category\")\n",
    "print(rolap1)\n",
    "\n",
    "# Query 2: Total sales by year\n",
    "q2 = \"\"\"\n",
    "SELECT d.year, SUM(s.revenue) as total_revenue\n",
    "FROM sales s\n",
    "JOIN dates d ON s.date = d.date\n",
    "GROUP BY d.year;\n",
    "\"\"\"\n",
    "rolap2 = pd.read_sql_query(q2, conn)\n",
    "print(\"\\nROLAP: Total Revenue by Year\")\n",
    "print(rolap2)\n",
    "\n",
    "# Query 3: Best selling product in each category\n",
    "q3 = \"\"\"\n",
    "SELECT p.category, p.name, SUM(s.quantity) as total_sold\n",
    "FROM sales s\n",
    "JOIN products p ON s.product_id = p.product_id\n",
    "GROUP BY p.category, p.name\n",
    "ORDER BY total_sold DESC;\n",
    "\"\"\"\n",
    "rolap3 = pd.read_sql_query(q3, conn)\n",
    "print(\"\\nROLAP: Best-Selling Products\")\n",
    "print(rolap3)\n"
   ]
  },
  {
   "cell_type": "markdown",
   "id": "74c3b88e",
   "metadata": {},
   "source": [
    "### (b) MOLAP (Multidimensional OLAP using Pandas)\n",
    "\n",
    "We use Pandas pivot tables to build OLAP cubes.  \n",
    "Here, we aggregate **Revenue by Product Category × Year**.\n"
   ]
  },
  {
   "cell_type": "code",
   "execution_count": 30,
   "id": "5e2f9d67",
   "metadata": {},
   "outputs": [
    {
     "name": "stdout",
     "output_type": "stream",
     "text": [
      "MOLAP Cube (Category × Year):\n",
      "year         2024\n",
      "category         \n",
      "Clothing      740\n",
      "Electronics  6500\n"
     ]
    },
    {
     "name": "stderr",
     "output_type": "stream",
     "text": [
      "/var/folders/kf/ycsk6hwn7zg_vr2g3zgr78bw0000gn/T/ipykernel_51137/3237028681.py:1: FutureWarning: The provided callable <function sum at 0x1188b6f20> is currently using DataFrameGroupBy.sum. In a future version of pandas, the provided callable will be used directly. To keep current behavior pass the string \"sum\" instead.\n",
      "  cube = pd.pivot_table(\n"
     ]
    },
    {
     "data": {
      "image/png": "[encoded data removed]",
      "text/plain": [
       "<Figure size 640x480 with 2 Axes>"
      ]
     },
     "metadata": {},
     "output_type": "display_data"
    }
   ],
   "source": [
    "cube = pd.pivot_table(\n",
    "    sales.merge(products, on=\"product_id\").merge(dates, on=\"date\"),\n",
    "    values=\"revenue\",\n",
    "    index=\"category\",\n",
    "    columns=\"year\",\n",
    "    aggfunc=np.sum,\n",
    "    fill_value=0\n",
    ")\n",
    "print(\"MOLAP Cube (Category × Year):\")\n",
    "print(cube)\n",
    "\n",
    "# Heatmap visualization\n",
    "sns.heatmap(cube, annot=True, fmt=\".0f\", cmap=\"Blues\")\n",
    "plt.title(\"MOLAP: Revenue Cube (Category × Year)\")\n",
    "plt.show()\n"
   ]
  },
  {
   "cell_type": "markdown",
   "id": "bf0fdac8",
   "metadata": {},
   "source": [
    "### (c) HOLAP (Hybrid OLAP)\n",
    "\n",
    "We combine **ROLAP for details** and **MOLAP for summaries**.\n"
   ]
  },
  {
   "cell_type": "code",
   "execution_count": 31,
   "id": "751c7b79",
   "metadata": {},
   "outputs": [
    {
     "name": "stdout",
     "output_type": "stream",
     "text": [
      "HOLAP Summary (Avg Revenue by Category):\n",
      "      category      revenue\n",
      "0     Clothing   370.000000\n",
      "1  Electronics  2166.666667\n"
     ]
    },
    {
     "data": {
      "image/png": "[encoded data removed]",
      "text/plain": [
       "<Figure size 640x480 with 1 Axes>"
      ]
     },
     "metadata": {},
     "output_type": "display_data"
    }
   ],
   "source": [
    "# Detailed data (ROLAP)\n",
    "detail_sql = \"\"\"\n",
    "SELECT s.sale_id, p.category, p.name, d.year, d.quarter, s.quantity, s.revenue\n",
    "FROM sales s\n",
    "JOIN products p ON s.product_id = p.product_id\n",
    "JOIN dates d ON s.date = d.date;\n",
    "\"\"\"\n",
    "detail_df = pd.read_sql_query(detail_sql, conn)\n",
    "\n",
    "# MOLAP summary\n",
    "holap_summary = detail_df.groupby(\"category\")[\"revenue\"].mean().reset_index()\n",
    "print(\"HOLAP Summary (Avg Revenue by Category):\")\n",
    "print(holap_summary)\n",
    "\n",
    "# Visualization\n",
    "sns.barplot(data=holap_summary, x=\"category\", y=\"revenue\")\n",
    "plt.title(\"HOLAP: Avg Revenue by Category\")\n",
    "plt.show()\n"
   ]
  },
  {
   "cell_type": "markdown",
   "id": "4fd78c56",
   "metadata": {},
   "source": [
    "## 4. OLAP Operations\n",
    "We now demonstrate **Slice, Dice, Roll-Up, and Drill-Down**.\n"
   ]
  },
  {
   "cell_type": "code",
   "execution_count": 32,
   "id": "78501823",
   "metadata": {},
   "outputs": [
    {
     "name": "stdout",
     "output_type": "stream",
     "text": [
      "Slice (Q1 2024 Sales):\n",
      "   sale_id     category    name  year quarter  quantity  revenue\n",
      "0        1  Electronics  Laptop  2024      Q1         2     2000\n",
      "1        2  Electronics   Phone  2024      Q1         5     2500\n",
      "2        3     Clothing   Shirt  2024      Q1        10      500\n",
      "\n",
      "Dice (Electronics in Q1 2024):\n",
      "   sale_id     category    name  year quarter  quantity  revenue\n",
      "0        1  Electronics  Laptop  2024      Q1         2     2000\n",
      "1        2  Electronics   Phone  2024      Q1         5     2500\n",
      "\n",
      "Roll-Up (Revenue by Category and Year):\n",
      "      category  year  revenue\n",
      "0     Clothing  2024      740\n",
      "1  Electronics  2024     6500\n",
      "\n",
      "Drill-Down (Revenue by Year and Quarter):\n",
      "   year quarter  revenue\n",
      "0  2024      Q1     5000\n",
      "1  2024      Q2     2240\n"
     ]
    },
    {
     "data": {
      "image/png": "[encoded data removed]",
      "text/plain": [
       "<Figure size 640x480 with 1 Axes>"
      ]
     },
     "metadata": {},
     "output_type": "display_data"
    }
   ],
   "source": [
    "# Slice: Sales in Q1 2024\n",
    "slice_df = detail_df[detail_df['quarter']=='Q1']\n",
    "print(\"Slice (Q1 2024 Sales):\")\n",
    "print(slice_df)\n",
    "\n",
    "# Dice: Electronics in Q1 2024\n",
    "dice_df = detail_df[(detail_df['quarter']=='Q1') & (detail_df['category']=='Electronics')]\n",
    "print(\"\\nDice (Electronics in Q1 2024):\")\n",
    "print(dice_df)\n",
    "\n",
    "# Roll-Up: From Product → Category → Year\n",
    "rollup = detail_df.groupby(['category','year'])['revenue'].sum().reset_index()\n",
    "print(\"\\nRoll-Up (Revenue by Category and Year):\")\n",
    "print(rollup)\n",
    "\n",
    "# Drill-Down: From Year → Quarter\n",
    "drill = detail_df.groupby(['year','quarter'])['revenue'].sum().reset_index()\n",
    "print(\"\\nDrill-Down (Revenue by Year and Quarter):\")\n",
    "print(drill)\n",
    "\n",
    "# Visualization\n",
    "sns.barplot(data=drill, x=\"quarter\", y=\"revenue\", hue=\"year\")\n",
    "plt.title(\"Drill-Down: Revenue by Year → Quarter\")\n",
    "plt.show()\n"
   ]
  },
  {
   "cell_type": "markdown",
   "id": "ea3519e9",
   "metadata": {},
   "source": [
    "## 5. Visualization Results\n",
    "- **ROLAP**: Bar plots of revenue by category and by year.  \n",
    "- **MOLAP**: Heatmap of revenue by category × year.  \n",
    "- **HOLAP**: Bar plot of average revenue by category.  \n",
    "- **Drill-Down**: Revenue trends by year → quarter.  \n",
    "\n",
    "These visualizations confirm the ability of OLAP to provide insights across multiple dimensions.\n"
   ]
  },
  {
   "cell_type": "markdown",
   "id": "f8c2491b",
   "metadata": {},
   "source": [
    "## ✅ Conclusion\n",
    "This notebook demonstrated a **mini OLAP system** using:\n",
    "- **ROLAP** with SQLite SQL queries  \n",
    "- **MOLAP** with Pandas pivot tables  \n",
    "- **HOLAP** combining both  \n",
    "- OLAP Operations: **Slice, Dice, Roll-Up, Drill-Down**  \n",
    "- Visualizations for better interpretation  \n",
    "\n",
    "This assignment showed how OLAP can be implemented in a lightweight environment (SQLite + Pandas) to analyze multidimensional data.\n",
    "\n",
    "**Author:** Abdiqalaq Issack -243  \n"
   ]
  }
 ],
 "metadata": {
  "kernelspec": {
   "display_name": "Python 3",
   "language": "python",
   "name": "python3"
  },
  "language_info": {
   "codemirror_mode": {
    "name": "ipython",
    "version": 3
   },
   "file_extension": ".py",
   "mimetype": "text/x-python",
   "name": "python",
   "nbconvert_exporter": "python",
   "pygments_lexer": "ipython3",
   "version": "3.13.7"
  }
 },
 "nbformat": 4,
 "nbformat_minor": 5
}
